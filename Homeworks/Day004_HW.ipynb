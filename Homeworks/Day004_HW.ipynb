{
 "cells": [
  {
   "cell_type": "markdown",
   "metadata": {
    "colab_type": "text",
    "id": "uSf0mVenUdOf"
   },
   "source": [
    "# 利用 Python 存取 API\n",
    "\n",
    "\n",
    "* 了解 Server Client 的架構與溝通方法\n",
    "* 知道 HTTP Request & Response 的內容\n",
    "* 什麼是 API？如何用 Python 程式存取 API 資料\n"
   ]
  },
  {
   "cell_type": "markdown",
   "metadata": {
    "colab_type": "text",
    "id": "FwvxVPZuUdOh"
   },
   "source": [
    "## 作業目標\n",
    "\n",
    "* 比較一下範例檔案中的「r.text」與「json.loads(r.text)」讀出來的內容有什麼差異\n",
    "* 自行尋找一個合適的 API 接口做練習，並且查看其回傳內容\n",
    "    * https://cat-fact.herokuapp.com/facts (來源：https://alexwohlbruck.github.io/cat-facts/)\n",
    "    * http://odata.wra.gov.tw/v4/RealtimeWaterLevel (來源：https://data.gov.tw/dataset/25768)\n",
    "\n"
   ]
  },
  {
   "cell_type": "markdown",
   "metadata": {
    "colab_type": "text",
    "id": "r5GIjwYuUdOi"
   },
   "source": [
    "### 比較一下範例檔案中的「r.text」與「json.loads(r.text)」讀出來的內容有什麼差異"
   ]
  },
  {
   "cell_type": "code",
   "execution_count": 34,
   "metadata": {
    "colab": {},
    "colab_type": "code",
    "id": "sVxW3MTeUdOj",
    "outputId": "a83e3e3b-eb9d-4c6d-d5d2-3a2ef30cee87"
   },
   "outputs": [
    {
     "name": "stdout",
     "output_type": "stream",
     "text": [
      "<class 'requests.models.Response'> \n",
      " <class 'str'> \n",
      "----------------------\n"
     ]
    },
    {
     "data": {
      "text/plain": [
       "'<!DOCTYPE html><html><head><meta charset=\"utf-8\"><meta name=\"viewport\" content=\"width=device-width,initial-scale=1,maximum-scale=1,user-scalable=0,shrink-to-fit=no\"><meta http-equiv=\"X-UA-Compatible\" content=\"IE=edge\"><meta http-equiv=\"Content-Language\" content=\"zh-tw\"/><meta property=\"og:title\" content=\"Cupoy - 為你探索世界的新知\"/><meta property=\"og:description\" content=\"Cupoy 將網路上的大量雜訊去蕪存菁，它能為你即時推播社群中各種領域的重要新聞、創作各種知識懶人包，讓你將寶貴的時間用在最值得閱讀的內容上。\"/><meta property=\"og:image\" content=\"https://www.cupoy.com/images/logo.png\"/><meta property=\"og:url\" content=\"https://www.cupoy.com/\"/><meta property=\"og:type\" content=\"website\"/><meta name=\"description\" content=\"Cupoy 將網路上的大量雜訊去蕪存菁，它能為你即時推播社群中各種領域的重要新聞、創作各種知識懶人包，讓你將寶貴的時間用在最值得閱讀的內容上。\"/><meta property=\"keywords\" content=\"\"/><meta name=\"apple-itunes-app\" content=\"app-id=597799429\"><meta property=\"cp:newsitemid\" content=\"\"/><meta property=\"cp:cumatrixid\" content=\"\"/><meta property=\"cp:cumatrixitemid\" content=\"\"/><meta name=\"theme-color\" content=\"#E62427\"><link rel=\"manifest\" href=\"/manifest.json\"><link rel=\"shortcut icon\" href=\"/favicon.ico\"><link rel=\"preload stylesheet\" href=\"/css/icomoon/style.css\" media=\"none\" as=\"style\" onload=\\'this.media=\"all\"\\'/><link rel=\"preload stylesheet\" href=\"/css/material-design-iconic-font/css/material-design-iconic-font.css\" media=\"none\" as=\"style\" onload=\\'this.media=\"all\"\\'><link rel=\"preload stylesheet\" href=\"https://fonts.googleapis.com/css?family=Open+Sans:400,600,300,300italic,400italic,600italic,700,700italic,800,800italic\" as=\"style\" onload=\\'this.media=\"all\"\\'><link rel=\"stylesheet preload\" as=\"style\" href=\"https://fonts.googleapis.com/css?family=Material+Icons|Material+Icons+Outlined\"><base href=\"/\"><title>Cupoy - 為你探索世界的新知</title><style>body,html{margin:0;padding:0}.cupoy{position:relative;width:100vw;height:100vh;background-color:#f0efee;display:-webkit-box;display:-webkit-flex;display:-ms-flexbox;display:flex;-webkit-box-align:center;-moz-box-align:center;box-align:center;-webkit-align-items:center;-moz-align-items:center;-ms-align-items:center;-o-align-items:center;align-items:center;-ms-flex-align:center;-webkit-box-pack:center;-moz-box-pack:center;box-pack:center;-webkit-justify-content:center;-moz-justify-content:center;-ms-justify-content:center;-o-justify-content:center;justify-content:center;-ms-flex-pack:center;-webkit-flex-direction:column;-ms-flex-direction:column;flex-direction:column}.cupoy .text{font-size:32px;color:#c6bdbc;margin:20px auto 0}#ieNotSupport{position:fixed;top:0;left:0;right:0;bottom:0;margin:auto}#ieNotSupport img{max-width:100%}#ieNotSupport .content{padding:100px 20px 20px 20px;text-align:center}#ieNotSupport .desc{max-width:320px;margin:10px auto 10px;font-size:16px;line-height:26px}#ieNotSupport .linkBar{margin-top:20px;font-size:16px;line-height:26px}#ieNotSupport .explorer{display:inline-block;width:24px;height:24px;margin-right:10px;padding:0;border:none;text-align:center;cursor:pointer;vertical-align:bottom;color:#fff}#ienotsupport .explorer img{width:100%;height:100%}</style><link href=\"/static/css/main.b40d6ea7.css\" rel=\"stylesheet\"></head><body><noscript>You need to enable JavaScript to run this app.</noscript><div id=\"root\"><div class=\"cupoy\"><img src=\"/images/logo-gray.png\" alt=\"logo\"/><div class=\"text\">Loading...</div></div></div><div id=\"dropdownContainer\" style=\"width:100%;height:100%;overflow:hidden;position:fixed;z-index:2010;pointer-events:none;top:0;left:0\"></div><div class=\"seo-modal\"><!-- Header內容轉成html內容，確保Header中的字在content中找的到 -->\\n<!-- HTML Header meta tag中的內容轉content html -->\\n<header>\\n\\t<h1 class=\"title\">Cupoy - 為你探索世界的新知</h1>\\n\\t<p class=\"description\">Cupoy 將網路上的大量雜訊去蕪存菁，它能為你即時推播社群中各種領域的重要新聞、創作各種知識懶人包，讓你將寶貴的時間用在最值得閱讀的內容上。</p>\\t\\n</header>\\n<!-- 依據不同的context讀取不同的Mustache partial -->\\n\\n<!-- 網站主要功能以及探索內容Bucket List Navigation Bar -->\\n<!-- 網站主要連結 -->\\n<nav>\\n  <ul>\\n\\t<li>\\n\\t\\t<a href=\"/home\">首頁</a>\\n\\t</li>\\n    <li>\\n\\t\\t<a href=\"/newsfeed/topstory\">熱門新聞</a>\\n    \\t<ul>\\n\\t        <li class=\"item\">\\n\\t            <a href=\"/newsfeed/topicgrp/Hedonism_tw\" title=\"享樂女性\">                    \\n\\t                \\n\\t                <h3>享樂女性</h3> \\n\\t                <p>享樂女性是一種有質感的生活方式，分享給所有獨立自主的女性關於美妝保養、健康醫療、情感生活等時尚資訊，讓妳勇敢地打造自己想要的生活和幸福。</p>\\n\\t            </a>\\n\\t        </li>\\n\\t        <li class=\"item\">\\n\\t            <a href=\"/newsfeed/topicgrp/business_tw\" title=\"商業\">                    \\n\\t                \\n\\t                <h3>商業</h3> \\n\\t                <p>提供產業資訊、企業人物專訪、企業故事、財經新聞等內容。</p>\\n\\t            </a>\\n\\t        </li>\\n\\t        <li class=\"item\">\\n\\t            <a href=\"/newsfeed/topicgrp/tech_tw\" title=\"科技\">                    \\n\\t                \\n\\t                <h3>科技</h3> \\n\\t                <p>提供科技新聞的相關分析意見、市場和業內人士關心的科技趨勢與內幕。</p>\\n\\t            </a>\\n\\t        </li>\\n\\t        <li class=\"item\">\\n\\t            <a href=\"/newsfeed/topicgrp/InternationalFinance_tw\" title=\"國際財經\">                    \\n\\t                \\n\\t                <h3>國際財經</h3> \\n\\t                <p>豐富的國際、兩岸、財經、房地產等相關新聞，以最新、即時又多元的內容，滿足您想了解國際趨勢的時事脈動。</p>\\n\\t            </a>\\n\\t        </li>\\n\\t        <li class=\"item\">\\n\\t            <a href=\"/newsfeed/topicgrp/life_tw\" title=\"生活\">                    \\n\\t                \\n\\t                <h3>生活</h3> \\n\\t                <p>提供時尚美容、教育、休閒興趣、健身、汽車等各種內容。讓每個人用不同視角探索世界，撰寫屬於自己回憶錄，讓生活更加的美好！</p>\\n\\t            </a>\\n\\t        </li>\\n\\t        <li class=\"item\">\\n\\t            <a href=\"/newsfeed/topicgrp/Fitness_tw\" title=\"健身瘦身\">                    \\n\\t                \\n\\t                <h3>健身瘦身</h3> \\n\\t                <p>隨時更新所有關於健身、瘦身、健康等正確觀念和相關知識，目的是為了提倡運動，讓所有愛好運動的朋友們，擁有專業知識與健康人生！</p>\\n\\t            </a>\\n\\t        </li>\\n\\t        <li class=\"item\">\\n\\t            <a href=\"/newsfeed/topicgrp/Hipster_tw\" title=\"文青聚落\">                    \\n\\t                \\n\\t                <h3>文青聚落</h3> \\n\\t                <p>「文青」是種文化，也是種潮流，更是一種生活態度，與眾不同的風格，就是要深深的品味再透露那孤芳自賞的氛圍。文青，就是跟別人不一樣！</p>\\n\\t            </a>\\n\\t        </li>\\n\\t        <li class=\"item\">\\n\\t            <a href=\"/newsfeed/topicgrp/CityTour_tw\" title=\"城市食旅\">                    \\n\\t                \\n\\t                <h3>城市食旅</h3> \\n\\t                <p>國內外最豐富的旅遊行程、美食情報、旅遊新聞、旅遊住宿、休閒觀光及人氣美食介紹和實用旅遊指南...等相關資訊或懶人包分享，提供出遊計畫之參考。</p>\\n\\t            </a>\\n\\t        </li>\\n\\t        <li class=\"item\">\\n\\t            <a href=\"/newsfeed/topicgrp/3CExpert_tw\" title=\"3C達人\">                    \\n\\t                \\n\\t                <h3>3C達人</h3> \\n\\t                <p>專注於最新的3C科技產品與相關資訊，蒐羅目前科技趨勢觀察，以及網路當紅話題之新聞，持續關注您將成為名符其實的3C達人！</p>\\n\\t            </a>\\n\\t        </li>\\n\\t        <li class=\"item\">\\n\\t            <a href=\"/newsfeed/topicgrp/GamePlayer_tw\" title=\"御宅學園\">                    \\n\\t                \\n\\t                <h3>御宅學園</h3> \\n\\t                <p>集結所有關於動畫、漫畫、電玩資訊，並蒐羅電腦用品等相關文章，為這群熱衷並熟悉次文化的御宅族打造一個專屬你們的新世界。</p>\\n\\t            </a>\\n\\t        </li>\\n\\t        <li class=\"item\">\\n\\t            <a href=\"/newsfeed/topicgrp/Game_tw\" title=\"遊戲\">                    \\n\\t                \\n\\t                <h3>遊戲</h3> \\n\\t                <p>提供不同類型、平台上的電玩遊戲介紹，隨著時代、載體、網路的演進，電玩已經不單單是一種娛樂，更是一種文化現象，是現代人們生活中常見的一種休閒方式。</p>\\n\\t            </a>\\n\\t        </li>\\n\\t        <li class=\"item\">\\n\\t            <a href=\"/newsfeed/topicgrp/design_tw\" title=\"設計\">                    \\n\\t                \\n\\t                <h3>設計</h3> \\n\\t                <p>蒐集世界各地的創意與設計類資訊，提供視覺設計、產品設計、空間設計、時尚設計等內容。</p>\\n\\t            </a>\\n\\t        </li>\\n\\t        <li class=\"item\">\\n\\t            <a href=\"/newsfeed/topicgrp/Sports_tw\" title=\"運動\">                    \\n\\t                \\n\\t                <h3>運動</h3> \\n\\t                <p>提供國內外運動完整資訊，包含國內外職棒、職籃、網球、足球、高爾夫等各類運動及運動新聞與奧運賽事動態，讓您隨時接收最新訊息。</p>\\n\\t            </a>\\n\\t        </li>\\n\\t        <li class=\"item\">\\n\\t            <a href=\"/newsfeed/topicgrp/Babyhome_tw\" title=\"親子家庭\">                    \\n\\t                \\n\\t                <h3>親子家庭</h3> \\n\\t                <p>分享親子家庭相關之新聞，包括育兒經驗、教養新知、親子交流、醫療健康...等資訊。</p>\\n\\t            </a>\\n\\t        </li>\\n\\t        <li class=\"item\">\\n\\t            <a href=\"/newsfeed/topicgrp/WhiteCollar_tw\" title=\"職場白領\">                    \\n\\t                \\n\\t                <h3>職場白領</h3> \\n\\t                <p>搜羅了所有與職場相關文章，包括創業、職涯、管理與策略、行銷等報導文章，讓你輕鬆成為職場超人。</p>\\n\\t            </a>\\n\\t        </li>\\n\\t        <li class=\"item\">\\n\\t            <a href=\"/newsfeed/topicgrp/Reading_tw\" title=\"閱讀\">                    \\n\\t                \\n\\t                <h3>閱讀</h3> \\n\\t                <p>我們的生命有限，很多事情都無法親自去體驗。&#13;&#10;因此，利用閱讀、透過文字，我們可以超越時間和空間的限制，和任何人交談，獲取他們的經驗，開拓我們的視野，豐富我們的心靈。</p>\\n\\t            </a>\\n\\t        </li>\\n    \\t\\t    \\t</ul>\\n\\t</li>\\n\\t<li>\\n\\t\\t<a href=\"/kwassists/home\">知識特助</a>\\n\\t</li>\\n    <li>\\n    \\t<a href=\"/collections/topstory\">書籍課程</a>\\n    \\t<ul>\\n\\t        <li class=\"item\">\\n\\t            <a href=\"/collections/topicgrp/Hedonism_tw\" title=\"享樂女性\">                    \\n\\t                \\n\\t                <h3>享樂女性</h3> \\n\\t                <p>享樂女性是一種有質感的生活方式，分享給所有獨立自主的女性關於美妝保養、健康醫療、情感生活等時尚資訊，讓妳勇敢地打造自己想要的生活和幸福。</p>\\n\\t            </a>\\n\\t        </li>\\n\\t        <li class=\"item\">\\n\\t            <a href=\"/collections/topicgrp/business_tw\" title=\"商業\">                    \\n\\t                \\n\\t                <h3>商業</h3> \\n\\t                <p>提供產業資訊、企業人物專訪、企業故事、財經新聞等內容。</p>\\n\\t            </a>\\n\\t        </li>\\n\\t        <li class=\"item\">\\n\\t            <a href=\"/collections/topicgrp/tech_tw\" title=\"科技\">                    \\n\\t                \\n\\t                <h3>科技</h3> \\n\\t                <p>提供科技新聞的相關分析意見、市場和業內人士關心的科技趨勢與內幕。</p>\\n\\t            </a>\\n\\t        </li>\\n\\t        <li class=\"item\">\\n\\t            <a href=\"/collections/topicgrp/InternationalFinance_tw\" title=\"國際財經\">                    \\n\\t                \\n\\t                <h3>國際財經</h3> \\n\\t                <p>豐富的國際、兩岸、財經、房地產等相關新聞，以最新、即時又多元的內容，滿足您想了解國際趨勢的時事脈動。</p>\\n\\t            </a>\\n\\t        </li>\\n\\t        <li class=\"item\">\\n\\t            <a href=\"/collections/topicgrp/life_tw\" title=\"生活\">                    \\n\\t                \\n\\t                <h3>生活</h3> \\n\\t                <p>提供時尚美容、教育、休閒興趣、健身、汽車等各種內容。讓每個人用不同視角探索世界，撰寫屬於自己回憶錄，讓生活更加的美好！</p>\\n\\t            </a>\\n\\t        </li>\\n\\t        <li class=\"item\">\\n\\t            <a href=\"/collections/topicgrp/Fitness_tw\" title=\"健身瘦身\">                    \\n\\t                \\n\\t                <h3>健身瘦身</h3> \\n\\t                <p>隨時更新所有關於健身、瘦身、健康等正確觀念和相關知識，目的是為了提倡運動，讓所有愛好運動的朋友們，擁有專業知識與健康人生！</p>\\n\\t            </a>\\n\\t        </li>\\n\\t        <li class=\"item\">\\n\\t            <a href=\"/collections/topicgrp/Hipster_tw\" title=\"文青聚落\">                    \\n\\t                \\n\\t                <h3>文青聚落</h3> \\n\\t                <p>「文青」是種文化，也是種潮流，更是一種生活態度，與眾不同的風格，就是要深深的品味再透露那孤芳自賞的氛圍。文青，就是跟別人不一樣！</p>\\n\\t            </a>\\n\\t        </li>\\n\\t        <li class=\"item\">\\n\\t            <a href=\"/collections/topicgrp/CityTour_tw\" title=\"城市食旅\">                    \\n\\t                \\n\\t                <h3>城市食旅</h3> \\n\\t                <p>國內外最豐富的旅遊行程、美食情報、旅遊新聞、旅遊住宿、休閒觀光及人氣美食介紹和實用旅遊指南...等相關資訊或懶人包分享，提供出遊計畫之參考。</p>\\n\\t            </a>\\n\\t        </li>\\n\\t        <li class=\"item\">\\n\\t            <a href=\"/collections/topicgrp/3CExpert_tw\" title=\"3C達人\">                    \\n\\t                \\n\\t                <h3>3C達人</h3> \\n\\t                <p>專注於最新的3C科技產品與相關資訊，蒐羅目前科技趨勢觀察，以及網路當紅話題之新聞，持續關注您將成為名符其實的3C達人！</p>\\n\\t            </a>\\n\\t        </li>\\n\\t        <li class=\"item\">\\n\\t            <a href=\"/collections/topicgrp/GamePlayer_tw\" title=\"御宅學園\">                    \\n\\t                \\n\\t                <h3>御宅學園</h3> \\n\\t                <p>集結所有關於動畫、漫畫、電玩資訊，並蒐羅電腦用品等相關文章，為這群熱衷並熟悉次文化的御宅族打造一個專屬你們的新世界。</p>\\n\\t            </a>\\n\\t        </li>\\n\\t        <li class=\"item\">\\n\\t            <a href=\"/collections/topicgrp/Game_tw\" title=\"遊戲\">                    \\n\\t                \\n\\t                <h3>遊戲</h3> \\n\\t                <p>提供不同類型、平台上的電玩遊戲介紹，隨著時代、載體、網路的演進，電玩已經不單單是一種娛樂，更是一種文化現象，是現代人們生活中常見的一種休閒方式。</p>\\n\\t            </a>\\n\\t        </li>\\n\\t        <li class=\"item\">\\n\\t            <a href=\"/collections/topicgrp/design_tw\" title=\"設計\">                    \\n\\t                \\n\\t                <h3>設計</h3> \\n\\t                <p>蒐集世界各地的創意與設計類資訊，提供視覺設計、產品設計、空間設計、時尚設計等內容。</p>\\n\\t            </a>\\n\\t        </li>\\n\\t        <li class=\"item\">\\n\\t            <a href=\"/collections/topicgrp/Sports_tw\" title=\"運動\">                    \\n\\t                \\n\\t                <h3>運動</h3> \\n\\t                <p>提供國內外運動完整資訊，包含國內外職棒、職籃、網球、足球、高爾夫等各類運動及運動新聞與奧運賽事動態，讓您隨時接收最新訊息。</p>\\n\\t            </a>\\n\\t        </li>\\n\\t        <li class=\"item\">\\n\\t            <a href=\"/collections/topicgrp/Babyhome_tw\" title=\"親子家庭\">                    \\n\\t                \\n\\t                <h3>親子家庭</h3> \\n\\t                <p>分享親子家庭相關之新聞，包括育兒經驗、教養新知、親子交流、醫療健康...等資訊。</p>\\n\\t            </a>\\n\\t        </li>\\n\\t        <li class=\"item\">\\n\\t            <a href=\"/collections/topicgrp/WhiteCollar_tw\" title=\"職場白領\">                    \\n\\t                \\n\\t                <h3>職場白領</h3> \\n\\t                <p>搜羅了所有與職場相關文章，包括創業、職涯、管理與策略、行銷等報導文章，讓你輕鬆成為職場超人。</p>\\n\\t            </a>\\n\\t        </li>\\n\\t        <li class=\"item\">\\n\\t            <a href=\"/collections/topicgrp/Reading_tw\" title=\"閱讀\">                    \\n\\t                \\n\\t                <h3>閱讀</h3> \\n\\t                <p>我們的生命有限，很多事情都無法親自去體驗。&#13;&#10;因此，利用閱讀、透過文字，我們可以超越時間和空間的限制，和任何人交談，獲取他們的經驗，開拓我們的視野，豐富我們的心靈。</p>\\n\\t            </a>\\n\\t        </li>\\n    \\t\\t    \\t</ul>\\n    </li>\\n    <li><a href=\"/introduction\">關於</a></li>\\n  </ul>\\n</nav>\\n\\n\\n\\t<!-- Landing Page -->\\n\\t<article>\\n    <!-- <h1>Cupoy - 為你探索世界的新知</h1> -->\\n\\n    <section>\\n    \\t<h3>\\n    \\t\\tYour Knowledge Discoverer<br/>\\n    \\t\\t為你探索世界的新知\\n    \\t</h3>\\n\\t\\t<p>\\n\\t\\t\\tCupoy 將網路上的大量雜訊去蕪存菁，它能為你即時推播社群中各種領域的重要新聞、創作各種知識懶人包，讓你將寶貴的時間用在最值得閱讀的內容上。\\n\\t\\t</p>\\n    </section>\\n\\n    <section>\\n\\t\\t<!-- <video width=\"359\" height=\"640\">\\n\\t\\t\\t<source src=\"/videos/landing_page_1.mp4\" type=\"video/mp4\" />\\n\\t\\t</video> -->\\n\\t\\t<span>探索新知</span>\\n    \\t<h3>閱讀各領域的重要新聞與知識懶人包</h3>\\n\\t\\t<p>\\n\\t\\t\\tCupoy 的大數據分析技術為你探索來自社群網路中大家關注的新聞以及專家或意見領袖的觀點，讓你掌握完整的資訊脈絡，隨時了解最潮的新知。\\n\\t\\t</p>\\n    </section>\\n\\n    <section>\\n    \\t<!-- <video width=\"359\" height=\"640\">\\n\\t\\t\\t<source src=\"/videos/landing_page_2.mp4\" type=\"video/mp4\" />\\n\\t\\t</video> -->\\n    \\t<span>多元觀點</span>\\n    \\t<h3>集結專家和意見領袖的評論與相關文章</h3>\\n\\t\\t<p>\\n\\t\\t\\t匯整每則新聞由專家和意見領袖所撰寫的評論，透過評論可以幫助你快速掌握文章內容與專業觀點，即使文章太長或不熟悉的領域也能快速掌握專業觀點，此外，你可以追蹤意見領袖所分享的新聞，站在巨人的肩膀上追蹤第一手消息。\\n\\t\\t</p>\\n    </section>\\n\\n    <section>\\n    \\t<!-- <video width=\"359\" height=\"640\">\\n\\t\\t\\t<source src=\"/videos/landing_page_3.mp4\" type=\"video/mp4\" />\\n\\t\\t</video> -->\\n    \\t<span>知識共享</span>\\n    \\t<h3>分享你的獨到見解</h3>\\n\\t\\t<p>\\n\\t\\t\\t提供各種工具製作與分享你的懶人包、電子書、影音節目，在自媒體時代，知識就是你的影響力，分享你的看法，與你的讀者一分享彼此的見解，激盪出更多有趣的火花。\\n\\t\\t</p>\\n    </section>\\n</article>\\n\\n\\n\\n\\n\\n\\n\\n\\n\\n\\n\\n\\n\\n\\n\\t\\n\\n\\n\\t\\t<!-- Mix News Item List -->\\n<div>\\n\\t<ul>\\n\\t</ul>\\n</div>\\n\\t\\t<!-- Cumatrix List -->\\n<div>\\n\\t<ul>\\n\\t</ul>\\n</div>\\n\\n\\n</div><script type=\"text/javascript\" src=\"/static/js/main.a055a952.js\"></script></body></html>'"
      ]
     },
     "execution_count": 34,
     "metadata": {},
     "output_type": "execute_result"
    }
   ],
   "source": [
    "import requests\n",
    "import json\n",
    "\n",
    "path = r'https://www.cupoy.com/'\n",
    "#path = r'https://api.github.com/events'\n",
    "#path = r'https://www.msn.com/zh-tw'\n",
    "\n",
    "res = requests.get(path)\n",
    "\n",
    "print(type(res), '\\n', type(res.text), '\\n----------------------')\n",
    "res.text\n",
    "#res.json()\n",
    "\n"
   ]
  },
  {
   "cell_type": "code",
   "execution_count": 31,
   "metadata": {},
   "outputs": [
    {
     "name": "stdout",
     "output_type": "stream",
     "text": [
      "<class 'str'> \n",
      "----------------------\n",
      "<class 'str'> \n",
      "----------------------\n"
     ]
    },
    {
     "data": {
      "text/plain": [
       "'<!DOCTYPE html><html><head><meta charset=\"utf-8\"><meta name=\"viewport\" content=\"width=device-width,initial-scale=1,maximum-scale=1,user-scalable=0,shrink-to-fit=no\"><meta http-equiv=\"X-UA-Compatible\" content=\"IE=edge\"><meta http-equiv=\"Content-Language\" content=\"zh-tw\"/><meta property=\"og:title\" content=\"Cupoy - 為你探索世界的新知\"/><meta property=\"og:description\" content=\"Cupoy 將網路上的大量雜訊去蕪存菁，它能為你即時推播社群中各種領域的重要新聞、創作各種知識懶人包，讓你將寶貴的時間用在最值得閱讀的內容上。\"/><meta property=\"og:image\" content=\"https://www.cupoy.com/images/logo.png\"/><meta property=\"og:url\" content=\"https://www.cupoy.com/\"/><meta property=\"og:type\" content=\"website\"/><meta name=\"description\" content=\"Cupoy 將網路上的大量雜訊去蕪存菁，它能為你即時推播社群中各種領域的重要新聞、創作各種知識懶人包，讓你將寶貴的時間用在最值得閱讀的內容上。\"/><meta property=\"keywords\" content=\"\"/><meta name=\"apple-itunes-app\" content=\"app-id=597799429\"><meta property=\"cp:newsitemid\" content=\"\"/><meta property=\"cp:cumatrixid\" content=\"\"/><meta property=\"cp:cumatrixitemid\" content=\"\"/><meta name=\"theme-color\" content=\"#E62427\"><link rel=\"manifest\" href=\"/manifest.json\"><link rel=\"shortcut icon\" href=\"/favicon.ico\"><link rel=\"preload stylesheet\" href=\"/css/icomoon/style.css\" media=\"none\" as=\"style\" onload=\\'this.media=\"all\"\\'/><link rel=\"preload stylesheet\" href=\"/css/material-design-iconic-font/css/material-design-iconic-font.css\" media=\"none\" as=\"style\" onload=\\'this.media=\"all\"\\'><link rel=\"preload stylesheet\" href=\"https://fonts.googleapis.com/css?family=Open+Sans:400,600,300,300italic,400italic,600italic,700,700italic,800,800italic\" as=\"style\" onload=\\'this.media=\"all\"\\'><link rel=\"stylesheet preload\" as=\"style\" href=\"https://fonts.googleapis.com/css?family=Material+Icons|Material+Icons+Outlined\"><base href=\"/\"><title>Cupoy - 為你探索世界的新知</title><style>body,html{margin:0;padding:0}.cupoy{position:relative;width:100vw;height:100vh;background-color:#f0efee;display:-webkit-box;display:-webkit-flex;display:-ms-flexbox;display:flex;-webkit-box-align:center;-moz-box-align:center;box-align:center;-webkit-align-items:center;-moz-align-items:center;-ms-align-items:center;-o-align-items:center;align-items:center;-ms-flex-align:center;-webkit-box-pack:center;-moz-box-pack:center;box-pack:center;-webkit-justify-content:center;-moz-justify-content:center;-ms-justify-content:center;-o-justify-content:center;justify-content:center;-ms-flex-pack:center;-webkit-flex-direction:column;-ms-flex-direction:column;flex-direction:column}.cupoy .text{font-size:32px;color:#c6bdbc;margin:20px auto 0}#ieNotSupport{position:fixed;top:0;left:0;right:0;bottom:0;margin:auto}#ieNotSupport img{max-width:100%}#ieNotSupport .content{padding:100px 20px 20px 20px;text-align:center}#ieNotSupport .desc{max-width:320px;margin:10px auto 10px;font-size:16px;line-height:26px}#ieNotSupport .linkBar{margin-top:20px;font-size:16px;line-height:26px}#ieNotSupport .explorer{display:inline-block;width:24px;height:24px;margin-right:10px;padding:0;border:none;text-align:center;cursor:pointer;vertical-align:bottom;color:#fff}#ienotsupport .explorer img{width:100%;height:100%}</style><link href=\"/static/css/main.b40d6ea7.css\" rel=\"stylesheet\"></head><body><noscript>You need to enable JavaScript to run this app.</noscript><div id=\"root\"><div class=\"cupoy\"><img src=\"/images/logo-gray.png\" alt=\"logo\"/><div class=\"text\">Loading...</div></div></div><div id=\"dropdownContainer\" style=\"width:100%;height:100%;overflow:hidden;position:fixed;z-index:2010;pointer-events:none;top:0;left:0\"></div><div class=\"seo-modal\"><!-- Header內容轉成html內容，確保Header中的字在content中找的到 -->\\n<!-- HTML Header meta tag中的內容轉content html -->\\n<header>\\n\\t<h1 class=\"title\">Cupoy - 為你探索世界的新知</h1>\\n\\t<p class=\"description\">Cupoy 將網路上的大量雜訊去蕪存菁，它能為你即時推播社群中各種領域的重要新聞、創作各種知識懶人包，讓你將寶貴的時間用在最值得閱讀的內容上。</p>\\t\\n</header>\\n<!-- 依據不同的context讀取不同的Mustache partial -->\\n\\n<!-- 網站主要功能以及探索內容Bucket List Navigation Bar -->\\n<!-- 網站主要連結 -->\\n<nav>\\n  <ul>\\n\\t<li>\\n\\t\\t<a href=\"/home\">首頁</a>\\n\\t</li>\\n    <li>\\n\\t\\t<a href=\"/newsfeed/topstory\">熱門新聞</a>\\n    \\t<ul>\\n\\t        <li class=\"item\">\\n\\t            <a href=\"/newsfeed/topicgrp/Hedonism_tw\" title=\"享樂女性\">                    \\n\\t                \\n\\t                <h3>享樂女性</h3> \\n\\t                <p>享樂女性是一種有質感的生活方式，分享給所有獨立自主的女性關於美妝保養、健康醫療、情感生活等時尚資訊，讓妳勇敢地打造自己想要的生活和幸福。</p>\\n\\t            </a>\\n\\t        </li>\\n\\t        <li class=\"item\">\\n\\t            <a href=\"/newsfeed/topicgrp/business_tw\" title=\"商業\">                    \\n\\t                \\n\\t                <h3>商業</h3> \\n\\t                <p>提供產業資訊、企業人物專訪、企業故事、財經新聞等內容。</p>\\n\\t            </a>\\n\\t        </li>\\n\\t        <li class=\"item\">\\n\\t            <a href=\"/newsfeed/topicgrp/tech_tw\" title=\"科技\">                    \\n\\t                \\n\\t                <h3>科技</h3> \\n\\t                <p>提供科技新聞的相關分析意見、市場和業內人士關心的科技趨勢與內幕。</p>\\n\\t            </a>\\n\\t        </li>\\n\\t        <li class=\"item\">\\n\\t            <a href=\"/newsfeed/topicgrp/InternationalFinance_tw\" title=\"國際財經\">                    \\n\\t                \\n\\t                <h3>國際財經</h3> \\n\\t                <p>豐富的國際、兩岸、財經、房地產等相關新聞，以最新、即時又多元的內容，滿足您想了解國際趨勢的時事脈動。</p>\\n\\t            </a>\\n\\t        </li>\\n\\t        <li class=\"item\">\\n\\t            <a href=\"/newsfeed/topicgrp/life_tw\" title=\"生活\">                    \\n\\t                \\n\\t                <h3>生活</h3> \\n\\t                <p>提供時尚美容、教育、休閒興趣、健身、汽車等各種內容。讓每個人用不同視角探索世界，撰寫屬於自己回憶錄，讓生活更加的美好！</p>\\n\\t            </a>\\n\\t        </li>\\n\\t        <li class=\"item\">\\n\\t            <a href=\"/newsfeed/topicgrp/Fitness_tw\" title=\"健身瘦身\">                    \\n\\t                \\n\\t                <h3>健身瘦身</h3> \\n\\t                <p>隨時更新所有關於健身、瘦身、健康等正確觀念和相關知識，目的是為了提倡運動，讓所有愛好運動的朋友們，擁有專業知識與健康人生！</p>\\n\\t            </a>\\n\\t        </li>\\n\\t        <li class=\"item\">\\n\\t            <a href=\"/newsfeed/topicgrp/Hipster_tw\" title=\"文青聚落\">                    \\n\\t                \\n\\t                <h3>文青聚落</h3> \\n\\t                <p>「文青」是種文化，也是種潮流，更是一種生活態度，與眾不同的風格，就是要深深的品味再透露那孤芳自賞的氛圍。文青，就是跟別人不一樣！</p>\\n\\t            </a>\\n\\t        </li>\\n\\t        <li class=\"item\">\\n\\t            <a href=\"/newsfeed/topicgrp/CityTour_tw\" title=\"城市食旅\">                    \\n\\t                \\n\\t                <h3>城市食旅</h3> \\n\\t                <p>國內外最豐富的旅遊行程、美食情報、旅遊新聞、旅遊住宿、休閒觀光及人氣美食介紹和實用旅遊指南...等相關資訊或懶人包分享，提供出遊計畫之參考。</p>\\n\\t            </a>\\n\\t        </li>\\n\\t        <li class=\"item\">\\n\\t            <a href=\"/newsfeed/topicgrp/3CExpert_tw\" title=\"3C達人\">                    \\n\\t                \\n\\t                <h3>3C達人</h3> \\n\\t                <p>專注於最新的3C科技產品與相關資訊，蒐羅目前科技趨勢觀察，以及網路當紅話題之新聞，持續關注您將成為名符其實的3C達人！</p>\\n\\t            </a>\\n\\t        </li>\\n\\t        <li class=\"item\">\\n\\t            <a href=\"/newsfeed/topicgrp/GamePlayer_tw\" title=\"御宅學園\">                    \\n\\t                \\n\\t                <h3>御宅學園</h3> \\n\\t                <p>集結所有關於動畫、漫畫、電玩資訊，並蒐羅電腦用品等相關文章，為這群熱衷並熟悉次文化的御宅族打造一個專屬你們的新世界。</p>\\n\\t            </a>\\n\\t        </li>\\n\\t        <li class=\"item\">\\n\\t            <a href=\"/newsfeed/topicgrp/Game_tw\" title=\"遊戲\">                    \\n\\t                \\n\\t                <h3>遊戲</h3> \\n\\t                <p>提供不同類型、平台上的電玩遊戲介紹，隨著時代、載體、網路的演進，電玩已經不單單是一種娛樂，更是一種文化現象，是現代人們生活中常見的一種休閒方式。</p>\\n\\t            </a>\\n\\t        </li>\\n\\t        <li class=\"item\">\\n\\t            <a href=\"/newsfeed/topicgrp/design_tw\" title=\"設計\">                    \\n\\t                \\n\\t                <h3>設計</h3> \\n\\t                <p>蒐集世界各地的創意與設計類資訊，提供視覺設計、產品設計、空間設計、時尚設計等內容。</p>\\n\\t            </a>\\n\\t        </li>\\n\\t        <li class=\"item\">\\n\\t            <a href=\"/newsfeed/topicgrp/Sports_tw\" title=\"運動\">                    \\n\\t                \\n\\t                <h3>運動</h3> \\n\\t                <p>提供國內外運動完整資訊，包含國內外職棒、職籃、網球、足球、高爾夫等各類運動及運動新聞與奧運賽事動態，讓您隨時接收最新訊息。</p>\\n\\t            </a>\\n\\t        </li>\\n\\t        <li class=\"item\">\\n\\t            <a href=\"/newsfeed/topicgrp/Babyhome_tw\" title=\"親子家庭\">                    \\n\\t                \\n\\t                <h3>親子家庭</h3> \\n\\t                <p>分享親子家庭相關之新聞，包括育兒經驗、教養新知、親子交流、醫療健康...等資訊。</p>\\n\\t            </a>\\n\\t        </li>\\n\\t        <li class=\"item\">\\n\\t            <a href=\"/newsfeed/topicgrp/WhiteCollar_tw\" title=\"職場白領\">                    \\n\\t                \\n\\t                <h3>職場白領</h3> \\n\\t                <p>搜羅了所有與職場相關文章，包括創業、職涯、管理與策略、行銷等報導文章，讓你輕鬆成為職場超人。</p>\\n\\t            </a>\\n\\t        </li>\\n\\t        <li class=\"item\">\\n\\t            <a href=\"/newsfeed/topicgrp/Reading_tw\" title=\"閱讀\">                    \\n\\t                \\n\\t                <h3>閱讀</h3> \\n\\t                <p>我們的生命有限，很多事情都無法親自去體驗。&#13;&#10;因此，利用閱讀、透過文字，我們可以超越時間和空間的限制，和任何人交談，獲取他們的經驗，開拓我們的視野，豐富我們的心靈。</p>\\n\\t            </a>\\n\\t        </li>\\n    \\t\\t    \\t</ul>\\n\\t</li>\\n\\t<li>\\n\\t\\t<a href=\"/kwassists/home\">知識特助</a>\\n\\t</li>\\n    <li>\\n    \\t<a href=\"/collections/topstory\">書籍課程</a>\\n    \\t<ul>\\n\\t        <li class=\"item\">\\n\\t            <a href=\"/collections/topicgrp/Hedonism_tw\" title=\"享樂女性\">                    \\n\\t                \\n\\t                <h3>享樂女性</h3> \\n\\t                <p>享樂女性是一種有質感的生活方式，分享給所有獨立自主的女性關於美妝保養、健康醫療、情感生活等時尚資訊，讓妳勇敢地打造自己想要的生活和幸福。</p>\\n\\t            </a>\\n\\t        </li>\\n\\t        <li class=\"item\">\\n\\t            <a href=\"/collections/topicgrp/business_tw\" title=\"商業\">                    \\n\\t                \\n\\t                <h3>商業</h3> \\n\\t                <p>提供產業資訊、企業人物專訪、企業故事、財經新聞等內容。</p>\\n\\t            </a>\\n\\t        </li>\\n\\t        <li class=\"item\">\\n\\t            <a href=\"/collections/topicgrp/tech_tw\" title=\"科技\">                    \\n\\t                \\n\\t                <h3>科技</h3> \\n\\t                <p>提供科技新聞的相關分析意見、市場和業內人士關心的科技趨勢與內幕。</p>\\n\\t            </a>\\n\\t        </li>\\n\\t        <li class=\"item\">\\n\\t            <a href=\"/collections/topicgrp/InternationalFinance_tw\" title=\"國際財經\">                    \\n\\t                \\n\\t                <h3>國際財經</h3> \\n\\t                <p>豐富的國際、兩岸、財經、房地產等相關新聞，以最新、即時又多元的內容，滿足您想了解國際趨勢的時事脈動。</p>\\n\\t            </a>\\n\\t        </li>\\n\\t        <li class=\"item\">\\n\\t            <a href=\"/collections/topicgrp/life_tw\" title=\"生活\">                    \\n\\t                \\n\\t                <h3>生活</h3> \\n\\t                <p>提供時尚美容、教育、休閒興趣、健身、汽車等各種內容。讓每個人用不同視角探索世界，撰寫屬於自己回憶錄，讓生活更加的美好！</p>\\n\\t            </a>\\n\\t        </li>\\n\\t        <li class=\"item\">\\n\\t            <a href=\"/collections/topicgrp/Fitness_tw\" title=\"健身瘦身\">                    \\n\\t                \\n\\t                <h3>健身瘦身</h3> \\n\\t                <p>隨時更新所有關於健身、瘦身、健康等正確觀念和相關知識，目的是為了提倡運動，讓所有愛好運動的朋友們，擁有專業知識與健康人生！</p>\\n\\t            </a>\\n\\t        </li>\\n\\t        <li class=\"item\">\\n\\t            <a href=\"/collections/topicgrp/Hipster_tw\" title=\"文青聚落\">                    \\n\\t                \\n\\t                <h3>文青聚落</h3> \\n\\t                <p>「文青」是種文化，也是種潮流，更是一種生活態度，與眾不同的風格，就是要深深的品味再透露那孤芳自賞的氛圍。文青，就是跟別人不一樣！</p>\\n\\t            </a>\\n\\t        </li>\\n\\t        <li class=\"item\">\\n\\t            <a href=\"/collections/topicgrp/CityTour_tw\" title=\"城市食旅\">                    \\n\\t                \\n\\t                <h3>城市食旅</h3> \\n\\t                <p>國內外最豐富的旅遊行程、美食情報、旅遊新聞、旅遊住宿、休閒觀光及人氣美食介紹和實用旅遊指南...等相關資訊或懶人包分享，提供出遊計畫之參考。</p>\\n\\t            </a>\\n\\t        </li>\\n\\t        <li class=\"item\">\\n\\t            <a href=\"/collections/topicgrp/3CExpert_tw\" title=\"3C達人\">                    \\n\\t                \\n\\t                <h3>3C達人</h3> \\n\\t                <p>專注於最新的3C科技產品與相關資訊，蒐羅目前科技趨勢觀察，以及網路當紅話題之新聞，持續關注您將成為名符其實的3C達人！</p>\\n\\t            </a>\\n\\t        </li>\\n\\t        <li class=\"item\">\\n\\t            <a href=\"/collections/topicgrp/GamePlayer_tw\" title=\"御宅學園\">                    \\n\\t                \\n\\t                <h3>御宅學園</h3> \\n\\t                <p>集結所有關於動畫、漫畫、電玩資訊，並蒐羅電腦用品等相關文章，為這群熱衷並熟悉次文化的御宅族打造一個專屬你們的新世界。</p>\\n\\t            </a>\\n\\t        </li>\\n\\t        <li class=\"item\">\\n\\t            <a href=\"/collections/topicgrp/Game_tw\" title=\"遊戲\">                    \\n\\t                \\n\\t                <h3>遊戲</h3> \\n\\t                <p>提供不同類型、平台上的電玩遊戲介紹，隨著時代、載體、網路的演進，電玩已經不單單是一種娛樂，更是一種文化現象，是現代人們生活中常見的一種休閒方式。</p>\\n\\t            </a>\\n\\t        </li>\\n\\t        <li class=\"item\">\\n\\t            <a href=\"/collections/topicgrp/design_tw\" title=\"設計\">                    \\n\\t                \\n\\t                <h3>設計</h3> \\n\\t                <p>蒐集世界各地的創意與設計類資訊，提供視覺設計、產品設計、空間設計、時尚設計等內容。</p>\\n\\t            </a>\\n\\t        </li>\\n\\t        <li class=\"item\">\\n\\t            <a href=\"/collections/topicgrp/Sports_tw\" title=\"運動\">                    \\n\\t                \\n\\t                <h3>運動</h3> \\n\\t                <p>提供國內外運動完整資訊，包含國內外職棒、職籃、網球、足球、高爾夫等各類運動及運動新聞與奧運賽事動態，讓您隨時接收最新訊息。</p>\\n\\t            </a>\\n\\t        </li>\\n\\t        <li class=\"item\">\\n\\t            <a href=\"/collections/topicgrp/Babyhome_tw\" title=\"親子家庭\">                    \\n\\t                \\n\\t                <h3>親子家庭</h3> \\n\\t                <p>分享親子家庭相關之新聞，包括育兒經驗、教養新知、親子交流、醫療健康...等資訊。</p>\\n\\t            </a>\\n\\t        </li>\\n\\t        <li class=\"item\">\\n\\t            <a href=\"/collections/topicgrp/WhiteCollar_tw\" title=\"職場白領\">                    \\n\\t                \\n\\t                <h3>職場白領</h3> \\n\\t                <p>搜羅了所有與職場相關文章，包括創業、職涯、管理與策略、行銷等報導文章，讓你輕鬆成為職場超人。</p>\\n\\t            </a>\\n\\t        </li>\\n\\t        <li class=\"item\">\\n\\t            <a href=\"/collections/topicgrp/Reading_tw\" title=\"閱讀\">                    \\n\\t                \\n\\t                <h3>閱讀</h3> \\n\\t                <p>我們的生命有限，很多事情都無法親自去體驗。&#13;&#10;因此，利用閱讀、透過文字，我們可以超越時間和空間的限制，和任何人交談，獲取他們的經驗，開拓我們的視野，豐富我們的心靈。</p>\\n\\t            </a>\\n\\t        </li>\\n    \\t\\t    \\t</ul>\\n    </li>\\n    <li><a href=\"/introduction\">關於</a></li>\\n  </ul>\\n</nav>\\n\\n\\n\\t<!-- Landing Page -->\\n\\t<article>\\n    <!-- <h1>Cupoy - 為你探索世界的新知</h1> -->\\n\\n    <section>\\n    \\t<h3>\\n    \\t\\tYour Knowledge Discoverer<br/>\\n    \\t\\t為你探索世界的新知\\n    \\t</h3>\\n\\t\\t<p>\\n\\t\\t\\tCupoy 將網路上的大量雜訊去蕪存菁，它能為你即時推播社群中各種領域的重要新聞、創作各種知識懶人包，讓你將寶貴的時間用在最值得閱讀的內容上。\\n\\t\\t</p>\\n    </section>\\n\\n    <section>\\n\\t\\t<!-- <video width=\"359\" height=\"640\">\\n\\t\\t\\t<source src=\"/videos/landing_page_1.mp4\" type=\"video/mp4\" />\\n\\t\\t</video> -->\\n\\t\\t<span>探索新知</span>\\n    \\t<h3>閱讀各領域的重要新聞與知識懶人包</h3>\\n\\t\\t<p>\\n\\t\\t\\tCupoy 的大數據分析技術為你探索來自社群網路中大家關注的新聞以及專家或意見領袖的觀點，讓你掌握完整的資訊脈絡，隨時了解最潮的新知。\\n\\t\\t</p>\\n    </section>\\n\\n    <section>\\n    \\t<!-- <video width=\"359\" height=\"640\">\\n\\t\\t\\t<source src=\"/videos/landing_page_2.mp4\" type=\"video/mp4\" />\\n\\t\\t</video> -->\\n    \\t<span>多元觀點</span>\\n    \\t<h3>集結專家和意見領袖的評論與相關文章</h3>\\n\\t\\t<p>\\n\\t\\t\\t匯整每則新聞由專家和意見領袖所撰寫的評論，透過評論可以幫助你快速掌握文章內容與專業觀點，即使文章太長或不熟悉的領域也能快速掌握專業觀點，此外，你可以追蹤意見領袖所分享的新聞，站在巨人的肩膀上追蹤第一手消息。\\n\\t\\t</p>\\n    </section>\\n\\n    <section>\\n    \\t<!-- <video width=\"359\" height=\"640\">\\n\\t\\t\\t<source src=\"/videos/landing_page_3.mp4\" type=\"video/mp4\" />\\n\\t\\t</video> -->\\n    \\t<span>知識共享</span>\\n    \\t<h3>分享你的獨到見解</h3>\\n\\t\\t<p>\\n\\t\\t\\t提供各種工具製作與分享你的懶人包、電子書、影音節目，在自媒體時代，知識就是你的影響力，分享你的看法，與你的讀者一分享彼此的見解，激盪出更多有趣的火花。\\n\\t\\t</p>\\n    </section>\\n</article>\\n\\n\\n\\n\\n\\n\\n\\n\\n\\n\\n\\n\\n\\n\\n\\t\\n\\n\\n\\t\\t<!-- Mix News Item List -->\\n<div>\\n\\t<ul>\\n\\t</ul>\\n</div>\\n\\t\\t<!-- Cumatrix List -->\\n<div>\\n\\t<ul>\\n\\t</ul>\\n</div>\\n\\n\\n</div><script type=\"text/javascript\" src=\"/static/js/main.a055a952.js\"></script></body></html>'"
      ]
     },
     "execution_count": 31,
     "metadata": {},
     "output_type": "execute_result"
    }
   ],
   "source": [
    "jres = json.dumps(res.text)\n",
    "\n",
    "print(type(jres), '\\n----------------------')\n",
    "\n",
    "print(type(json.loads(jres)), '\\n----------------------')\n",
    "json.loads(jres)\n",
    "\n",
    "\n",
    "'''\n",
    "ANS:\n",
    "    由request函式截取回的資料型態為一類別，需搭配其它指令將所需內容截取出來。\n",
    "    JSON(JavaScript Object Notation)為一種易於讀寫的資料格式，其資料由列表、key:value值構成，即同python中的list & dict。\n",
    "    \n",
    "    使用json解析資料需注意資料格式為符合其結構之資料，否則會得到解碼錯誤：JSONDecodeError: Expecting value: line 1 column 1 (char 0)等。\n",
    "    \n",
    "    由於原始網站當初編寫之架構不同，request所get的資料也會有所不同，xml 或 java格式。\n",
    "'''"
   ]
  },
  {
   "cell_type": "markdown",
   "metadata": {
    "colab_type": "text",
    "id": "eJwMGD6XUdOn"
   },
   "source": [
    "### 自行尋找一個合適的 API 接口做練習，並且查看其回傳內容\n",
    "\n",
    "* https://cat-fact.herokuapp.com/facts (來源：https://alexwohlbruck.github.io/cat-facts/)\n",
    "* http://odata.wra.gov.tw/v4/RealtimeWaterLevel (來源：https://data.gov.tw/dataset/25768)\n"
   ]
  },
  {
   "cell_type": "code",
   "execution_count": 43,
   "metadata": {
    "colab": {},
    "colab_type": "code",
    "id": "XDvzxwA0UdOn",
    "outputId": "154b29e6-cd0d-48b9-e659-6e9a3f55e274"
   },
   "outputs": [
    {
     "name": "stdout",
     "output_type": "stream",
     "text": [
      "200\n"
     ]
    },
    {
     "data": {
      "text/plain": [
       "'{\"@odata.context\": \"http://odata.wra.gov.tw/v4/$metadata#RealtimeWaterLevel\",\\n\"@odata.count\": 100,\\n\"value\": [{\"StationIdentifier\": \"2560H025\",\"RecordTime\": \"Dec 11, 2019 12:10:00 AM\",\"WaterLevel\": 3.23},{\"StationIdentifier\": \"1740H011\",\"RecordTime\": \"Dec 11, 2019 12:10:00 AM\",\"WaterLevel\": 6.61},{\"StationIdentifier\": \"2370H018\",\"RecordTime\": \"Dec 11, 2019 12:10:00 AM\",\"WaterLevel\": 124.1},{\"StationIdentifier\": \"1730H069\",\"RecordTime\": \"Dec 11, 2019 12:10:00 AM\",\"WaterLevel\": 141.1},{\"StationIdentifier\": \"2420H037\",\"RecordTime\": \"Dec 11, 2019 12:10:00 AM\",\"WaterLevel\": 133.34},{\"StationIdentifier\": \"2370H024\",\"RecordTime\": \"Dec 11, 2019 12:10:00 AM\",\"WaterLevel\": 195.41},{\"StationIdentifier\": \"1650H008\",\"RecordTime\": \"Dec 11, 2019 12:10:00 AM\",\"WaterLevel\": 0.21},{\"StationIdentifier\": \"1730H065\",\"RecordTime\": \"Dec 11, 2019 12:10:00 AM\",\"WaterLevel\": 90.72},{\"StationIdentifier\": \"1670H003\",\"RecordTime\": \"Dec 11, 2019 12:10:00 AM\",\"WaterLevel\": 0.23},{\"StationIdentifier\": \"2370H016\",\"RecordTime\": \"Dec 11, 2019 12:10:00 AM\",\"WaterLevel\": 167.86},{\"StationIdentifier\": \"1590H012\",\"RecordTime\": \"Dec 11, 2019 12:10:00 AM\",\"WaterLevel\": 2.81},{\"StationIdentifier\": \"1730H058\",\"RecordTime\": \"Dec 11, 2019 12:10:00 AM\",\"WaterLevel\": 113.64},{\"StationIdentifier\": \"1580H015\",\"RecordTime\": \"Dec 11, 2019 12:10:00 AM\",\"WaterLevel\": 22.54},{\"StationIdentifier\": \"1650H010\",\"RecordTime\": \"Dec 11, 2019 12:10:00 AM\",\"WaterLevel\": 0.37},{\"StationIdentifier\": \"1660H012\",\"RecordTime\": \"Dec 11, 2019 12:10:00 AM\",\"WaterLevel\": -0.09},{\"StationIdentifier\": \"1850H005\",\"RecordTime\": \"Dec 11, 2019 12:10:00 AM\",\"WaterLevel\": 22.1},{\"StationIdentifier\": \"1430H051\",\"RecordTime\": \"Dec 11, 2019 12:10:00 AM\",\"WaterLevel\": 95.67},{\"StationIdentifier\": \"1660H010\",\"RecordTime\": \"Dec 11, 2019 12:10:00 AM\",\"WaterLevel\": 7.47},{\"StationIdentifier\": \"1730H067\",\"RecordTime\": \"Dec 11, 2019 12:10:00 AM\",\"WaterLevel\": -999998},{\"StationIdentifier\": \"1550H012\",\"RecordTime\": \"Dec 11, 2019 12:10:00 AM\",\"WaterLevel\": 1.05},{\"StationIdentifier\": \"1630H040\",\"RecordTime\": \"Dec 11, 2019 12:00:00 AM\",\"WaterLevel\": 1.76},{\"StationIdentifier\": \"1590H016\",\"RecordTime\": \"Dec 11, 2019 12:10:00 AM\",\"WaterLevel\": 11.27},{\"StationIdentifier\": \"2200H029\",\"RecordTime\": \"Dec 10, 2019 11:50:00 PM\",\"WaterLevel\": 145.16},{\"StationIdentifier\": \"1430H030\",\"RecordTime\": \"Dec 11, 2019 12:10:00 AM\",\"WaterLevel\": 87.61},{\"StationIdentifier\": \"1730H061\",\"RecordTime\": \"Dec 11, 2019 12:10:00 AM\",\"WaterLevel\": 266.24},{\"StationIdentifier\": \"1650H015\",\"RecordTime\": \"Dec 10, 2019 11:50:00 PM\",\"WaterLevel\": 0.24},{\"StationIdentifier\": \"1540H039\",\"RecordTime\": \"Dec 11, 2019 12:10:00 AM\",\"WaterLevel\": 38.99},{\"StationIdentifier\": \"1630H034\",\"RecordTime\": \"Dec 10, 2019 11:20:00 PM\",\"WaterLevel\": 278.28},{\"StationIdentifier\": \"1590H015\",\"RecordTime\": \"Dec 11, 2019 12:10:00 AM\",\"WaterLevel\": 9.31},{\"StationIdentifier\": \"2200H025\",\"RecordTime\": \"Dec 11, 2019 12:10:00 AM\",\"WaterLevel\": 207.59},{\"StationIdentifier\": \"1430H028\",\"RecordTime\": \"Dec 10, 2019 11:50:00 PM\",\"WaterLevel\": 23.58},{\"StationIdentifier\": \"1730H045\",\"RecordTime\": \"Dec 11, 2019 12:10:00 AM\",\"WaterLevel\": 5.14},{\"StationIdentifier\": \"1650H012\",\"RecordTime\": \"Dec 11, 2019 12:10:00 AM\",\"WaterLevel\": 0.73},{\"StationIdentifier\": \"1420H058\",\"RecordTime\": \"Dec 11, 2019 12:10:00 AM\",\"WaterLevel\": 440.47},{\"StationIdentifier\": \"1510H058\",\"RecordTime\": \"Dec 11, 2019 12:00:00 AM\",\"WaterLevel\": 12.17},{\"StationIdentifier\": \"1580H022\",\"RecordTime\": \"Dec 11, 2019 12:10:00 AM\",\"WaterLevel\": 0.59},{\"StationIdentifier\": \"2200H011\",\"RecordTime\": \"Dec 11, 2019 12:10:00 AM\",\"WaterLevel\": 25.79},{\"StationIdentifier\": \"1540H037\",\"RecordTime\": \"Dec 11, 2019 12:10:00 AM\",\"WaterLevel\": 31.99},{\"StationIdentifier\": \"1540H030\",\"RecordTime\": \"Dec 11, 2019 12:10:00 AM\",\"WaterLevel\": 27.21},{\"StationIdentifier\": \"1510H080\",\"RecordTime\": \"Dec 11, 2019 12:10:00 AM\",\"WaterLevel\": 1068.96},{\"StationIdentifier\": \"1580H001\",\"RecordTime\": \"Dec 11, 2019 12:10:00 AM\",\"WaterLevel\": 224.21},{\"StationIdentifier\": \"1420H056\",\"RecordTime\": \"Dec 10, 2019 8:30:00 PM\",\"WaterLevel\": 196.38},{\"StationIdentifier\": \"1430H056\",\"RecordTime\": \"Dec 11, 2019 12:10:00 AM\",\"WaterLevel\": 79.84},{\"StationIdentifier\": \"1730H077\",\"RecordTime\": \"Dec 11, 2019 12:10:00 AM\",\"WaterLevel\": 740.42},{\"StationIdentifier\": \"1540H032\",\"RecordTime\": \"Dec 11, 2019 12:10:00 AM\",\"WaterLevel\": 20.28},{\"StationIdentifier\": \"1540H009\",\"RecordTime\": \"Dec 11, 2019 12:10:00 AM\",\"WaterLevel\": 1.46},{\"StationIdentifier\": \"1510H050\",\"RecordTime\": \"Dec 11, 2019 12:00:00 AM\",\"WaterLevel\": 155.63},{\"StationIdentifier\": \"1430H037\",\"RecordTime\": \"Dec 11, 2019 12:10:00 AM\",\"WaterLevel\": 380.48},{\"StationIdentifier\": \"1140H107\",\"RecordTime\": \"Dec 11, 2019 12:10:00 AM\",\"WaterLevel\": 3.49},{\"StationIdentifier\": \"1430H052\",\"RecordTime\": \"Dec 11, 2019 12:10:00 AM\",\"WaterLevel\": 173.06},{\"StationIdentifier\": \"1580H008\",\"RecordTime\": \"Dec 11, 2019 12:10:00 AM\",\"WaterLevel\": 19.41},{\"StationIdentifier\": \"1510H087\",\"RecordTime\": \"Dec 11, 2019 12:10:00 AM\",\"WaterLevel\": 428.61},{\"StationIdentifier\": \"1510H086\",\"RecordTime\": \"Dec 11, 2019 12:10:00 AM\",\"WaterLevel\": 317.93},{\"StationIdentifier\": \"1430H061\",\"RecordTime\": \"Dec 11, 2019 12:10:00 AM\",\"WaterLevel\": 24.98},{\"StationIdentifier\": \"1420H052\",\"RecordTime\": \"Dec 10, 2019 11:50:00 PM\",\"WaterLevel\": 428.73},{\"StationIdentifier\": \"1140H101\",\"RecordTime\": \"Dec 11, 2019 12:00:00 AM\",\"WaterLevel\": 181.93},{\"StationIdentifier\": \"1430H047\",\"RecordTime\": \"Dec 10, 2019 11:50:00 PM\",\"WaterLevel\": 72.39},{\"StationIdentifier\": \"1550H017\",\"RecordTime\": \"Dec 11, 2019 12:10:00 AM\",\"WaterLevel\": 15.76},{\"StationIdentifier\": \"1510H084\",\"RecordTime\": \"Dec 11, 2019 12:10:00 AM\",\"WaterLevel\": 145.29},{\"StationIdentifier\": \"1510H082\",\"RecordTime\": \"Dec 11, 2019 12:10:00 AM\",\"WaterLevel\": 752.4},{\"StationIdentifier\": \"1430H058\",\"RecordTime\": \"Dec 11, 2019 12:10:00 AM\",\"WaterLevel\": 83.03},{\"StationIdentifier\": \"1400H019\",\"RecordTime\": \"Dec 10, 2019 11:50:00 PM\",\"WaterLevel\": 310.48},{\"StationIdentifier\": \"1140H076\",\"RecordTime\": \"Dec 10, 2019 11:50:00 PM\",\"WaterLevel\": 135.71},{\"StationIdentifier\": \"1430H046\",\"RecordTime\": \"Dec 10, 2019 11:50:00 PM\",\"WaterLevel\": 111.07},{\"StationIdentifier\": \"1540H035\",\"RecordTime\": \"Dec 11, 2019 12:10:00 AM\",\"WaterLevel\": 86.85},{\"StationIdentifier\": \"1350H029\",\"RecordTime\": \"Dec 11, 2019 12:10:00 AM\",\"WaterLevel\": 175.97},{\"StationIdentifier\": \"1510H075\",\"RecordTime\": \"Dec 11, 2019 12:00:00 AM\",\"WaterLevel\": 346.49},{\"StationIdentifier\": \"1430H054\",\"RecordTime\": \"Dec 11, 2019 12:10:00 AM\",\"WaterLevel\": 48.29},{\"StationIdentifier\": \"1400H018\",\"RecordTime\": \"Dec 10, 2019 11:50:00 PM\",\"WaterLevel\": 55.26},{\"StationIdentifier\": \"1140H048\",\"RecordTime\": \"Dec 9, 2019 4:20:00 PM\",\"WaterLevel\": 28.34},{\"StationIdentifier\": \"1430H040\",\"RecordTime\": \"Dec 11, 2019 12:10:00 AM\",\"WaterLevel\": 19.33},{\"StationIdentifier\": \"1420H054\",\"RecordTime\": \"Dec 11, 2019 12:10:00 AM\",\"WaterLevel\": 704.19},{\"StationIdentifier\": \"1350H020\",\"RecordTime\": \"Dec 11, 2019 12:10:00 AM\",\"WaterLevel\": 220.8},{\"StationIdentifier\": \"1510H063\",\"RecordTime\": \"Dec 11, 2019 12:00:00 AM\",\"WaterLevel\": 263.86},{\"StationIdentifier\": \"1340H011\",\"RecordTime\": \"Dec 11, 2019 12:10:00 AM\",\"WaterLevel\": 7.34},{\"StationIdentifier\": \"1400H009\",\"RecordTime\": \"Dec 11, 2019 12:10:00 AM\",\"WaterLevel\": 191.55},{\"StationIdentifier\": \"2560H023\",\"RecordTime\": \"Dec 11, 2019 12:10:00 AM\",\"WaterLevel\": 12.97},{\"StationIdentifier\": \"1290H004\",\"RecordTime\": \"Dec 11, 2019 12:10:00 AM\",\"WaterLevel\": 115.65},{\"StationIdentifier\": \"1420H049\",\"RecordTime\": \"Dec 11, 2019 12:10:00 AM\",\"WaterLevel\": 54.19},{\"StationIdentifier\": \"1350H017\",\"RecordTime\": \"Dec 11, 2019 12:10:00 AM\",\"WaterLevel\": 243.86},{\"StationIdentifier\": \"1340H013\",\"RecordTime\": \"Dec 11, 2019 12:10:00 AM\",\"WaterLevel\": 247.06},{\"StationIdentifier\": \"1350H030\",\"RecordTime\": \"Dec 10, 2019 11:50:00 PM\",\"WaterLevel\": 57.67},{\"StationIdentifier\": \"1140H058\",\"RecordTime\": \"Dec 10, 2019 11:50:00 PM\",\"WaterLevel\": 4.42},{\"StationIdentifier\": \"2560H019\",\"RecordTime\": \"Dec 11, 2019 12:10:00 AM\",\"WaterLevel\": 4.48},{\"StationIdentifier\": \"1140H128\",\"RecordTime\": \"Dec 11, 2019 12:10:00 AM\",\"WaterLevel\": 22.04},{\"StationIdentifier\": \"1300H023\",\"RecordTime\": \"Dec 11, 2019 12:00:00 AM\",\"WaterLevel\": 52.3},{\"StationIdentifier\": \"1350H016\",\"RecordTime\": \"Dec 11, 2019 12:10:00 AM\",\"WaterLevel\": 97.93},{\"StationIdentifier\": \"1340H009\",\"RecordTime\": \"Dec 11, 2019 12:10:00 AM\",\"WaterLevel\": 175.87},{\"StationIdentifier\": \"1350H027\",\"RecordTime\": \"Dec 10, 2019 11:50:00 PM\",\"WaterLevel\": 145.87},{\"StationIdentifier\": \"2420H024\",\"RecordTime\": \"Dec 11, 2019 12:00:00 AM\",\"WaterLevel\": 4.77},{\"StationIdentifier\": \"2560H006\",\"RecordTime\": \"Dec 11, 2019 12:10:00 AM\",\"WaterLevel\": 3.24},{\"StationIdentifier\": \"1300H021\",\"RecordTime\": \"Dec 11, 2019 12:10:00 AM\",\"WaterLevel\": 0.72},{\"StationIdentifier\": \"1140H098\",\"RecordTime\": \"Dec 11, 2019 12:00:00 AM\",\"WaterLevel\": 174.58},{\"StationIdentifier\": \"1340H016\",\"RecordTime\": \"Dec 10, 2019 11:50:00 PM\",\"WaterLevel\": 1.24},{\"StationIdentifier\": \"1310H002\",\"RecordTime\": \"Dec 11, 2019 12:10:00 AM\",\"WaterLevel\": 1.04},{\"StationIdentifier\": \"1350H026\",\"RecordTime\": \"Dec 11, 2019 12:10:00 AM\",\"WaterLevel\": 30.35},{\"StationIdentifier\": \"2420H018\",\"RecordTime\": \"Dec 11, 2019 12:10:00 AM\",\"WaterLevel\": 156.21},{\"StationIdentifier\": \"1630H031\",\"RecordTime\": \"Dec 10, 2019 11:20:00 PM\",\"WaterLevel\": 0.78},{\"StationIdentifier\": \"1140H126\",\"RecordTime\": \"Dec 11, 2019 12:10:00 AM\",\"WaterLevel\": 81.32},{\"StationIdentifier\": \"2420H046\",\"RecordTime\": \"Dec 11, 2019 12:10:00 AM\",\"WaterLevel\": 35.95}],\\r\\n\"@odata.nextLink\": \"http://odata.wra.gov.tw/v4/RealtimeWaterLevel?$skip=100&$top=100\"}'"
      ]
     },
     "execution_count": 43,
     "metadata": {},
     "output_type": "execute_result"
    }
   ],
   "source": [
    "path = r'http://odata.wra.gov.tw/v4/RealtimeWaterLevel'\n",
    "\n",
    "api1 = requests.get(path)\n",
    "print(api1.status_code)\n",
    "api1.text\n"
   ]
  },
  {
   "cell_type": "code",
   "execution_count": 41,
   "metadata": {
    "colab": {},
    "colab_type": "code",
    "id": "RPISC-Y4UdOq"
   },
   "outputs": [
    {
     "name": "stdout",
     "output_type": "stream",
     "text": [
      "<class 'dict'> \n",
      "----------------------\n"
     ]
    },
    {
     "data": {
      "text/plain": [
       "{'@odata.context': 'http://odata.wra.gov.tw/v4/$metadata#RealtimeWaterLevel',\n",
       " '@odata.count': 100,\n",
       " 'value': [{'StationIdentifier': '2560H025',\n",
       "   'RecordTime': 'Dec 11, 2019 12:10:00 AM',\n",
       "   'WaterLevel': 3.23},\n",
       "  {'StationIdentifier': '1740H011',\n",
       "   'RecordTime': 'Dec 11, 2019 12:10:00 AM',\n",
       "   'WaterLevel': 6.61},\n",
       "  {'StationIdentifier': '2370H018',\n",
       "   'RecordTime': 'Dec 11, 2019 12:10:00 AM',\n",
       "   'WaterLevel': 124.1},\n",
       "  {'StationIdentifier': '1730H069',\n",
       "   'RecordTime': 'Dec 11, 2019 12:10:00 AM',\n",
       "   'WaterLevel': 141.1},\n",
       "  {'StationIdentifier': '2420H037',\n",
       "   'RecordTime': 'Dec 11, 2019 12:10:00 AM',\n",
       "   'WaterLevel': 133.34},\n",
       "  {'StationIdentifier': '2370H024',\n",
       "   'RecordTime': 'Dec 11, 2019 12:10:00 AM',\n",
       "   'WaterLevel': 195.41},\n",
       "  {'StationIdentifier': '1650H008',\n",
       "   'RecordTime': 'Dec 11, 2019 12:10:00 AM',\n",
       "   'WaterLevel': 0.21},\n",
       "  {'StationIdentifier': '1730H065',\n",
       "   'RecordTime': 'Dec 11, 2019 12:10:00 AM',\n",
       "   'WaterLevel': 90.72},\n",
       "  {'StationIdentifier': '1670H003',\n",
       "   'RecordTime': 'Dec 11, 2019 12:10:00 AM',\n",
       "   'WaterLevel': 0.23},\n",
       "  {'StationIdentifier': '2370H016',\n",
       "   'RecordTime': 'Dec 11, 2019 12:10:00 AM',\n",
       "   'WaterLevel': 167.86},\n",
       "  {'StationIdentifier': '1590H012',\n",
       "   'RecordTime': 'Dec 11, 2019 12:10:00 AM',\n",
       "   'WaterLevel': 2.81},\n",
       "  {'StationIdentifier': '1730H058',\n",
       "   'RecordTime': 'Dec 11, 2019 12:10:00 AM',\n",
       "   'WaterLevel': 113.64},\n",
       "  {'StationIdentifier': '1580H015',\n",
       "   'RecordTime': 'Dec 11, 2019 12:10:00 AM',\n",
       "   'WaterLevel': 22.54},\n",
       "  {'StationIdentifier': '1650H010',\n",
       "   'RecordTime': 'Dec 11, 2019 12:10:00 AM',\n",
       "   'WaterLevel': 0.37},\n",
       "  {'StationIdentifier': '1660H012',\n",
       "   'RecordTime': 'Dec 11, 2019 12:10:00 AM',\n",
       "   'WaterLevel': -0.09},\n",
       "  {'StationIdentifier': '1850H005',\n",
       "   'RecordTime': 'Dec 11, 2019 12:10:00 AM',\n",
       "   'WaterLevel': 22.1},\n",
       "  {'StationIdentifier': '1430H051',\n",
       "   'RecordTime': 'Dec 11, 2019 12:10:00 AM',\n",
       "   'WaterLevel': 95.67},\n",
       "  {'StationIdentifier': '1660H010',\n",
       "   'RecordTime': 'Dec 11, 2019 12:10:00 AM',\n",
       "   'WaterLevel': 7.47},\n",
       "  {'StationIdentifier': '1730H067',\n",
       "   'RecordTime': 'Dec 11, 2019 12:10:00 AM',\n",
       "   'WaterLevel': -999998},\n",
       "  {'StationIdentifier': '1550H012',\n",
       "   'RecordTime': 'Dec 11, 2019 12:10:00 AM',\n",
       "   'WaterLevel': 1.05},\n",
       "  {'StationIdentifier': '1630H040',\n",
       "   'RecordTime': 'Dec 11, 2019 12:00:00 AM',\n",
       "   'WaterLevel': 1.76},\n",
       "  {'StationIdentifier': '1590H016',\n",
       "   'RecordTime': 'Dec 11, 2019 12:10:00 AM',\n",
       "   'WaterLevel': 11.27},\n",
       "  {'StationIdentifier': '2200H029',\n",
       "   'RecordTime': 'Dec 10, 2019 11:50:00 PM',\n",
       "   'WaterLevel': 145.16},\n",
       "  {'StationIdentifier': '1430H030',\n",
       "   'RecordTime': 'Dec 11, 2019 12:10:00 AM',\n",
       "   'WaterLevel': 87.61},\n",
       "  {'StationIdentifier': '1730H061',\n",
       "   'RecordTime': 'Dec 11, 2019 12:10:00 AM',\n",
       "   'WaterLevel': 266.24},\n",
       "  {'StationIdentifier': '1650H015',\n",
       "   'RecordTime': 'Dec 10, 2019 11:50:00 PM',\n",
       "   'WaterLevel': 0.24},\n",
       "  {'StationIdentifier': '1540H039',\n",
       "   'RecordTime': 'Dec 11, 2019 12:10:00 AM',\n",
       "   'WaterLevel': 38.99},\n",
       "  {'StationIdentifier': '1630H034',\n",
       "   'RecordTime': 'Dec 10, 2019 11:20:00 PM',\n",
       "   'WaterLevel': 278.28},\n",
       "  {'StationIdentifier': '1590H015',\n",
       "   'RecordTime': 'Dec 11, 2019 12:10:00 AM',\n",
       "   'WaterLevel': 9.31},\n",
       "  {'StationIdentifier': '2200H025',\n",
       "   'RecordTime': 'Dec 11, 2019 12:10:00 AM',\n",
       "   'WaterLevel': 207.59},\n",
       "  {'StationIdentifier': '1430H028',\n",
       "   'RecordTime': 'Dec 10, 2019 11:50:00 PM',\n",
       "   'WaterLevel': 23.58},\n",
       "  {'StationIdentifier': '1730H045',\n",
       "   'RecordTime': 'Dec 11, 2019 12:10:00 AM',\n",
       "   'WaterLevel': 5.14},\n",
       "  {'StationIdentifier': '1650H012',\n",
       "   'RecordTime': 'Dec 11, 2019 12:10:00 AM',\n",
       "   'WaterLevel': 0.73},\n",
       "  {'StationIdentifier': '1420H058',\n",
       "   'RecordTime': 'Dec 11, 2019 12:10:00 AM',\n",
       "   'WaterLevel': 440.47},\n",
       "  {'StationIdentifier': '1510H058',\n",
       "   'RecordTime': 'Dec 11, 2019 12:00:00 AM',\n",
       "   'WaterLevel': 12.17},\n",
       "  {'StationIdentifier': '1580H022',\n",
       "   'RecordTime': 'Dec 11, 2019 12:10:00 AM',\n",
       "   'WaterLevel': 0.59},\n",
       "  {'StationIdentifier': '2200H011',\n",
       "   'RecordTime': 'Dec 11, 2019 12:10:00 AM',\n",
       "   'WaterLevel': 25.79},\n",
       "  {'StationIdentifier': '1540H037',\n",
       "   'RecordTime': 'Dec 11, 2019 12:10:00 AM',\n",
       "   'WaterLevel': 31.99},\n",
       "  {'StationIdentifier': '1540H030',\n",
       "   'RecordTime': 'Dec 11, 2019 12:10:00 AM',\n",
       "   'WaterLevel': 27.21},\n",
       "  {'StationIdentifier': '1510H080',\n",
       "   'RecordTime': 'Dec 11, 2019 12:10:00 AM',\n",
       "   'WaterLevel': 1068.96},\n",
       "  {'StationIdentifier': '1580H001',\n",
       "   'RecordTime': 'Dec 11, 2019 12:10:00 AM',\n",
       "   'WaterLevel': 224.21},\n",
       "  {'StationIdentifier': '1420H056',\n",
       "   'RecordTime': 'Dec 10, 2019 8:30:00 PM',\n",
       "   'WaterLevel': 196.38},\n",
       "  {'StationIdentifier': '1430H056',\n",
       "   'RecordTime': 'Dec 11, 2019 12:10:00 AM',\n",
       "   'WaterLevel': 79.84},\n",
       "  {'StationIdentifier': '1730H077',\n",
       "   'RecordTime': 'Dec 11, 2019 12:10:00 AM',\n",
       "   'WaterLevel': 740.42},\n",
       "  {'StationIdentifier': '1540H032',\n",
       "   'RecordTime': 'Dec 11, 2019 12:10:00 AM',\n",
       "   'WaterLevel': 20.28},\n",
       "  {'StationIdentifier': '1540H009',\n",
       "   'RecordTime': 'Dec 11, 2019 12:10:00 AM',\n",
       "   'WaterLevel': 1.46},\n",
       "  {'StationIdentifier': '1510H050',\n",
       "   'RecordTime': 'Dec 11, 2019 12:00:00 AM',\n",
       "   'WaterLevel': 155.63},\n",
       "  {'StationIdentifier': '1430H037',\n",
       "   'RecordTime': 'Dec 11, 2019 12:10:00 AM',\n",
       "   'WaterLevel': 380.48},\n",
       "  {'StationIdentifier': '1140H107',\n",
       "   'RecordTime': 'Dec 11, 2019 12:10:00 AM',\n",
       "   'WaterLevel': 3.49},\n",
       "  {'StationIdentifier': '1430H052',\n",
       "   'RecordTime': 'Dec 11, 2019 12:10:00 AM',\n",
       "   'WaterLevel': 173.06},\n",
       "  {'StationIdentifier': '1580H008',\n",
       "   'RecordTime': 'Dec 11, 2019 12:10:00 AM',\n",
       "   'WaterLevel': 19.41},\n",
       "  {'StationIdentifier': '1510H087',\n",
       "   'RecordTime': 'Dec 11, 2019 12:10:00 AM',\n",
       "   'WaterLevel': 428.61},\n",
       "  {'StationIdentifier': '1510H086',\n",
       "   'RecordTime': 'Dec 11, 2019 12:10:00 AM',\n",
       "   'WaterLevel': 317.93},\n",
       "  {'StationIdentifier': '1430H061',\n",
       "   'RecordTime': 'Dec 11, 2019 12:10:00 AM',\n",
       "   'WaterLevel': 24.98},\n",
       "  {'StationIdentifier': '1420H052',\n",
       "   'RecordTime': 'Dec 10, 2019 11:50:00 PM',\n",
       "   'WaterLevel': 428.73},\n",
       "  {'StationIdentifier': '1140H101',\n",
       "   'RecordTime': 'Dec 11, 2019 12:00:00 AM',\n",
       "   'WaterLevel': 181.93},\n",
       "  {'StationIdentifier': '1430H047',\n",
       "   'RecordTime': 'Dec 10, 2019 11:50:00 PM',\n",
       "   'WaterLevel': 72.39},\n",
       "  {'StationIdentifier': '1550H017',\n",
       "   'RecordTime': 'Dec 11, 2019 12:10:00 AM',\n",
       "   'WaterLevel': 15.76},\n",
       "  {'StationIdentifier': '1510H084',\n",
       "   'RecordTime': 'Dec 11, 2019 12:10:00 AM',\n",
       "   'WaterLevel': 145.29},\n",
       "  {'StationIdentifier': '1510H082',\n",
       "   'RecordTime': 'Dec 11, 2019 12:10:00 AM',\n",
       "   'WaterLevel': 752.4},\n",
       "  {'StationIdentifier': '1430H058',\n",
       "   'RecordTime': 'Dec 11, 2019 12:10:00 AM',\n",
       "   'WaterLevel': 83.03},\n",
       "  {'StationIdentifier': '1400H019',\n",
       "   'RecordTime': 'Dec 10, 2019 11:50:00 PM',\n",
       "   'WaterLevel': 310.48},\n",
       "  {'StationIdentifier': '1140H076',\n",
       "   'RecordTime': 'Dec 10, 2019 11:50:00 PM',\n",
       "   'WaterLevel': 135.71},\n",
       "  {'StationIdentifier': '1430H046',\n",
       "   'RecordTime': 'Dec 10, 2019 11:50:00 PM',\n",
       "   'WaterLevel': 111.07},\n",
       "  {'StationIdentifier': '1540H035',\n",
       "   'RecordTime': 'Dec 11, 2019 12:10:00 AM',\n",
       "   'WaterLevel': 86.85},\n",
       "  {'StationIdentifier': '1350H029',\n",
       "   'RecordTime': 'Dec 11, 2019 12:10:00 AM',\n",
       "   'WaterLevel': 175.97},\n",
       "  {'StationIdentifier': '1510H075',\n",
       "   'RecordTime': 'Dec 11, 2019 12:00:00 AM',\n",
       "   'WaterLevel': 346.49},\n",
       "  {'StationIdentifier': '1430H054',\n",
       "   'RecordTime': 'Dec 11, 2019 12:10:00 AM',\n",
       "   'WaterLevel': 48.29},\n",
       "  {'StationIdentifier': '1400H018',\n",
       "   'RecordTime': 'Dec 10, 2019 11:50:00 PM',\n",
       "   'WaterLevel': 55.26},\n",
       "  {'StationIdentifier': '1140H048',\n",
       "   'RecordTime': 'Dec 9, 2019 4:20:00 PM',\n",
       "   'WaterLevel': 28.34},\n",
       "  {'StationIdentifier': '1430H040',\n",
       "   'RecordTime': 'Dec 11, 2019 12:10:00 AM',\n",
       "   'WaterLevel': 19.33},\n",
       "  {'StationIdentifier': '1420H054',\n",
       "   'RecordTime': 'Dec 11, 2019 12:10:00 AM',\n",
       "   'WaterLevel': 704.19},\n",
       "  {'StationIdentifier': '1350H020',\n",
       "   'RecordTime': 'Dec 11, 2019 12:10:00 AM',\n",
       "   'WaterLevel': 220.8},\n",
       "  {'StationIdentifier': '1510H063',\n",
       "   'RecordTime': 'Dec 11, 2019 12:00:00 AM',\n",
       "   'WaterLevel': 263.86},\n",
       "  {'StationIdentifier': '1340H011',\n",
       "   'RecordTime': 'Dec 11, 2019 12:10:00 AM',\n",
       "   'WaterLevel': 7.34},\n",
       "  {'StationIdentifier': '1400H009',\n",
       "   'RecordTime': 'Dec 11, 2019 12:10:00 AM',\n",
       "   'WaterLevel': 191.55},\n",
       "  {'StationIdentifier': '2560H023',\n",
       "   'RecordTime': 'Dec 11, 2019 12:10:00 AM',\n",
       "   'WaterLevel': 12.97},\n",
       "  {'StationIdentifier': '1290H004',\n",
       "   'RecordTime': 'Dec 11, 2019 12:10:00 AM',\n",
       "   'WaterLevel': 115.65},\n",
       "  {'StationIdentifier': '1420H049',\n",
       "   'RecordTime': 'Dec 11, 2019 12:10:00 AM',\n",
       "   'WaterLevel': 54.19},\n",
       "  {'StationIdentifier': '1350H017',\n",
       "   'RecordTime': 'Dec 11, 2019 12:10:00 AM',\n",
       "   'WaterLevel': 243.86},\n",
       "  {'StationIdentifier': '1340H013',\n",
       "   'RecordTime': 'Dec 11, 2019 12:10:00 AM',\n",
       "   'WaterLevel': 247.06},\n",
       "  {'StationIdentifier': '1350H030',\n",
       "   'RecordTime': 'Dec 10, 2019 11:50:00 PM',\n",
       "   'WaterLevel': 57.67},\n",
       "  {'StationIdentifier': '1140H058',\n",
       "   'RecordTime': 'Dec 10, 2019 11:50:00 PM',\n",
       "   'WaterLevel': 4.42},\n",
       "  {'StationIdentifier': '2560H019',\n",
       "   'RecordTime': 'Dec 11, 2019 12:10:00 AM',\n",
       "   'WaterLevel': 4.48},\n",
       "  {'StationIdentifier': '1140H128',\n",
       "   'RecordTime': 'Dec 11, 2019 12:10:00 AM',\n",
       "   'WaterLevel': 22.04},\n",
       "  {'StationIdentifier': '1300H023',\n",
       "   'RecordTime': 'Dec 11, 2019 12:00:00 AM',\n",
       "   'WaterLevel': 52.3},\n",
       "  {'StationIdentifier': '1350H016',\n",
       "   'RecordTime': 'Dec 11, 2019 12:10:00 AM',\n",
       "   'WaterLevel': 97.93},\n",
       "  {'StationIdentifier': '1340H009',\n",
       "   'RecordTime': 'Dec 11, 2019 12:10:00 AM',\n",
       "   'WaterLevel': 175.87},\n",
       "  {'StationIdentifier': '1350H027',\n",
       "   'RecordTime': 'Dec 10, 2019 11:50:00 PM',\n",
       "   'WaterLevel': 145.87},\n",
       "  {'StationIdentifier': '2420H024',\n",
       "   'RecordTime': 'Dec 11, 2019 12:00:00 AM',\n",
       "   'WaterLevel': 4.77},\n",
       "  {'StationIdentifier': '2560H006',\n",
       "   'RecordTime': 'Dec 11, 2019 12:10:00 AM',\n",
       "   'WaterLevel': 3.24},\n",
       "  {'StationIdentifier': '1300H021',\n",
       "   'RecordTime': 'Dec 11, 2019 12:10:00 AM',\n",
       "   'WaterLevel': 0.72},\n",
       "  {'StationIdentifier': '1140H098',\n",
       "   'RecordTime': 'Dec 11, 2019 12:00:00 AM',\n",
       "   'WaterLevel': 174.58},\n",
       "  {'StationIdentifier': '1340H016',\n",
       "   'RecordTime': 'Dec 10, 2019 11:50:00 PM',\n",
       "   'WaterLevel': 1.24},\n",
       "  {'StationIdentifier': '1310H002',\n",
       "   'RecordTime': 'Dec 11, 2019 12:10:00 AM',\n",
       "   'WaterLevel': 1.04},\n",
       "  {'StationIdentifier': '1350H026',\n",
       "   'RecordTime': 'Dec 11, 2019 12:10:00 AM',\n",
       "   'WaterLevel': 30.35},\n",
       "  {'StationIdentifier': '2420H018',\n",
       "   'RecordTime': 'Dec 11, 2019 12:10:00 AM',\n",
       "   'WaterLevel': 156.21},\n",
       "  {'StationIdentifier': '1630H031',\n",
       "   'RecordTime': 'Dec 10, 2019 11:20:00 PM',\n",
       "   'WaterLevel': 0.78},\n",
       "  {'StationIdentifier': '1140H126',\n",
       "   'RecordTime': 'Dec 11, 2019 12:10:00 AM',\n",
       "   'WaterLevel': 81.32},\n",
       "  {'StationIdentifier': '2420H046',\n",
       "   'RecordTime': 'Dec 11, 2019 12:10:00 AM',\n",
       "   'WaterLevel': 35.95}],\n",
       " '@odata.nextLink': 'http://odata.wra.gov.tw/v4/RealtimeWaterLevel?$skip=100&$top=100'}"
      ]
     },
     "execution_count": 41,
     "metadata": {},
     "output_type": "execute_result"
    }
   ],
   "source": [
    "japi1 = json.loads(api1.text)\n",
    "\n",
    "print(type(japi1), '\\n----------------------')\n",
    "japi1"
   ]
  },
  {
   "cell_type": "code",
   "execution_count": 0,
   "metadata": {
    "colab": {},
    "colab_type": "code",
    "id": "H5EyeQRIUdOr"
   },
   "outputs": [],
   "source": []
  }
 ],
 "metadata": {
  "colab": {
   "name": "homework.ipynb",
   "provenance": []
  },
  "kernelspec": {
   "display_name": "Python 3",
   "language": "python",
   "name": "python3"
  },
  "language_info": {
   "codemirror_mode": {
    "name": "ipython",
    "version": 3
   },
   "file_extension": ".py",
   "mimetype": "text/x-python",
   "name": "python",
   "nbconvert_exporter": "python",
   "pygments_lexer": "ipython3",
   "version": "3.6.6"
  }
 },
 "nbformat": 4,
 "nbformat_minor": 1
}
