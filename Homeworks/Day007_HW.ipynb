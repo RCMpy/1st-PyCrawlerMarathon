{
 "cells": [
  {
   "cell_type": "markdown",
   "metadata": {},
   "source": [
    "# HTTP 靜態網頁架構說明\n",
    "\n",
    "* 認識靜態網頁的溝通架構與運作原理\n",
    "* HTML、CSS、JavaScript 在網頁中扮演的角色\n",
    "* 網頁中定位資料的方法"
   ]
  },
  {
   "cell_type": "markdown",
   "metadata": {},
   "source": [
    "## 作業目標\n",
    "\n",
    "1. （簡答題）請問目前提到的這種基於 HTTP 一來一回的網頁傳輸方式，有哪些缺點及問題？\n",
    "2. （簡答題）網頁中使用的 JavaScipt 程式語言，跟我們一般使用的 Python 在執行上有什麼不同。\n"
   ]
  },
  {
   "cell_type": "markdown",
   "metadata": {},
   "source": [
    "### 1.（簡答題）請問目前提到的這種基於 HTTP 一來一回的網頁傳輸方式，有哪些缺點及問題？"
   ]
  },
  {
   "cell_type": "code",
   "execution_count": 2,
   "metadata": {},
   "outputs": [
    {
     "data": {
      "text/plain": [
       "'\\nANS:\\n    在使用端發出request後，成功經由server處理回傳的response，其傳輸連結即中斷。若要取得新的資料，便要再次發出要求連接。\\n    總處理時間將會增加(雖然現今使用者應感受不到差異)；還有當使用者需多筆資料同時處理時，由server的角度來說，其無法得知這幾筆的連結都是由同一使用者發出。\\n    簡言之，資料獲得之不完整性將會增加。\\n    \\n    另外，get/response方法，其傳輸過程將暴露使用者/伺服器的資料。資料獲得之不安全性也隨之增加。\\n'"
      ]
     },
     "execution_count": 2,
     "metadata": {},
     "output_type": "execute_result"
    }
   ],
   "source": [
    "'''\n",
    "ANS:\n",
    "    在使用端發出request後，成功經由server處理回傳的response，其傳輸連結即中斷。若要取得新的資料，便要再次發出要求連接。\n",
    "    總處理時間將會增加(雖然現今使用者應感受不到差異)；還有當使用者需多筆資料同時處理時，由server的角度來說，其無法得知這幾筆的連結都是由同一使用者發出。\n",
    "    簡言之，資料獲得之不完整性將會增加。\n",
    "    \n",
    "    另外，get/response方法，其傳輸過程將暴露使用者/伺服器的資料。資料獲得之不安全性也隨之增加。\n",
    "'''"
   ]
  },
  {
   "cell_type": "markdown",
   "metadata": {},
   "source": [
    "### 2. （簡答題）網頁中使用的 JavaScipt 程式語言，跟我們一般使用的 Python 在執行上有什麼不同。"
   ]
  },
  {
   "cell_type": "code",
   "execution_count": 1,
   "metadata": {},
   "outputs": [
    {
     "data": {
      "text/plain": [
       "'\\nANS:\\n    JAVA在網頁中將所得之response資料，配合使用者或軟體等，將該資料以相對應的方法呈現在使用者面前。\\n    \\n    PYTHON像是建築一個架構，裡頭的元素由使用者定義、更改，配合函式庫分析處理，最終完成既定目標；JAVA運用的元素(資料)絕大多是固定的(由server所得)。\\n'"
      ]
     },
     "execution_count": 1,
     "metadata": {},
     "output_type": "execute_result"
    }
   ],
   "source": [
    "'''\n",
    "ANS:\n",
    "    JAVA在網頁中將所得之response資料，配合使用者或軟體等，將該資料以相對應的方法呈現在使用者面前。\n",
    "    \n",
    "    PYTHON像是建築一個架構，裡頭的元素由使用者定義、更改，配合函式庫分析處理，最終完成既定目標；JAVA運用的元素(資料)絕大多是固定的(由server所得)。\n",
    "'''"
   ]
  },
  {
   "cell_type": "code",
   "execution_count": null,
   "metadata": {},
   "outputs": [],
   "source": []
  }
 ],
 "metadata": {
  "kernelspec": {
   "display_name": "Python 3",
   "language": "python",
   "name": "python3"
  },
  "language_info": {
   "codemirror_mode": {
    "name": "ipython",
    "version": 3
   },
   "file_extension": ".py",
   "mimetype": "text/x-python",
   "name": "python",
   "nbconvert_exporter": "python",
   "pygments_lexer": "ipython3",
   "version": "3.6.6"
  }
 },
 "nbformat": 4,
 "nbformat_minor": 2
}
